{
  "nbformat": 4,
  "nbformat_minor": 0,
  "metadata": {
    "colab": {
      "name": "Unet.ipynb",
      "provenance": [],
      "authorship_tag": "ABX9TyPEzEjnwQvFpOX/Afbmawmc",
      "include_colab_link": true
    },
    "kernelspec": {
      "name": "python3",
      "display_name": "Python 3"
    },
    "accelerator": "GPU"
  },
  "cells": [
    {
      "cell_type": "markdown",
      "metadata": {
        "id": "view-in-github",
        "colab_type": "text"
      },
      "source": [
        "<a href=\"https://colab.research.google.com/github/SivenM/unet_test/blob/master/Unet.ipynb\" target=\"_parent\"><img src=\"https://colab.research.google.com/assets/colab-badge.svg\" alt=\"Open In Colab\"/></a>"
      ]
    },
    {
      "cell_type": "markdown",
      "metadata": {
        "id": "RwRDrYRkv1dr",
        "colab_type": "text"
      },
      "source": [
        "#Ноутбук для Unet. \n",
        "\n",
        "Генераторы, модель, обучение и тестирование проводится здесь. \n",
        "\n",
        "Датасет взят из:\n",
        "https://supervise.ly/explore/projects/supervisely-person-dataset-23304/datasets\n",
        "\n",
        "и хранится в gdrive (unet_dataset)."
      ]
    },
    {
      "cell_type": "markdown",
      "metadata": {
        "id": "0Tyn8Q8Hwrpo",
        "colab_type": "text"
      },
      "source": [
        "##Получим доступ к gdrive и загруим датасет в среду."
      ]
    },
    {
      "cell_type": "code",
      "metadata": {
        "id": "UMt6V8GzvZXN",
        "colab_type": "code",
        "outputId": "fdbb89d5-c3db-4940-be6f-78f47bef0b89",
        "colab": {
          "base_uri": "https://localhost:8080/",
          "height": 35
        }
      },
      "source": [
        "from google.colab import drive\n",
        "drive.mount('/content/gdrive/', force_remount=True)"
      ],
      "execution_count": 0,
      "outputs": [
        {
          "output_type": "stream",
          "text": [
            "Mounted at /content/gdrive/\n"
          ],
          "name": "stdout"
        }
      ]
    },
    {
      "cell_type": "markdown",
      "metadata": {
        "id": "paos4drTCxRn",
        "colab_type": "text"
      },
      "source": [
        "##Выбираем tensorflow 2.x"
      ]
    },
    {
      "cell_type": "code",
      "metadata": {
        "id": "udfdZqFOvODu",
        "colab_type": "code",
        "outputId": "cece9eec-832c-4d3b-ae5e-11e863b2516e",
        "colab": {
          "base_uri": "https://localhost:8080/",
          "height": 35
        }
      },
      "source": [
        " %tensorflow_version 2.x\n"
      ],
      "execution_count": 0,
      "outputs": [
        {
          "output_type": "stream",
          "text": [
            "TensorFlow 2.x selected.\n"
          ],
          "name": "stdout"
        }
      ]
    },
    {
      "cell_type": "code",
      "metadata": {
        "id": "F2EF7rQIWlvz",
        "colab_type": "code",
        "outputId": "8141969e-5380-41d1-f68a-9450058d1a14",
        "colab": {
          "base_uri": "https://localhost:8080/",
          "height": 35
        }
      },
      "source": [
        "import tensorflow as tf\n",
        "print(tf.__version__)"
      ],
      "execution_count": 0,
      "outputs": [
        {
          "output_type": "stream",
          "text": [
            "2.1.0\n"
          ],
          "name": "stdout"
        }
      ]
    },
    {
      "cell_type": "markdown",
      "metadata": {
        "id": "EvR4VEqMzab6",
        "colab_type": "text"
      },
      "source": [
        "##Пути для данных"
      ]
    },
    {
      "cell_type": "code",
      "metadata": {
        "id": "YxRhMeKM0Dw2",
        "colab_type": "code",
        "colab": {}
      },
      "source": [
        "#пути для тренироваочных изображений и масок\n",
        "img_train_dir = '/content/gdrive/My Drive/unet_dataset/train/images' \n",
        "mask_train_dir = '/content/gdrive/My Drive/unet_dataset/train/masks'\n",
        "\n",
        "#пути для проверочных изображений и масок\n",
        "img_val_dir = '/content/gdrive/My Drive/unet_dataset/validation/images' \n",
        "mask_val_dir = '/content/gdrive/My Drive/unet_dataset/validation/masks'\n",
        "\n",
        "#пути для тестовых данных\n",
        "img_test_dir = '/content/gdrive/My Drive/unet_dataset/test/images' \n",
        "mask_test_dir = '/content/gdrive/My Drive/unet_dataset/test/masks'\n",
        "\n"
      ],
      "execution_count": 0,
      "outputs": []
    },
    {
      "cell_type": "markdown",
      "metadata": {
        "id": "Fhx-M2VrFNtZ",
        "colab_type": "text"
      },
      "source": [
        "##Метрика качества Intersection over Union\n",
        "\n",
        "\n",
        "![alt text](https://konspekta.net/megaobuchalkaru/imgbaza/baza12/331634881896.files/image103.png)"
      ]
    },
    {
      "cell_type": "markdown",
      "metadata": {
        "id": "J9m6XuAZwPHk",
        "colab_type": "text"
      },
      "source": [
        "##Архитектура нейронной сети:\n",
        "\n",
        "![alt text](https://raw.githubusercontent.com/zhixuhao/unet/master/img/u-net-architecture.png)"
      ]
    },
    {
      "cell_type": "markdown",
      "metadata": {
        "id": "wHU0KNFIEbu5",
        "colab_type": "text"
      },
      "source": [
        "##Модель unet"
      ]
    },
    {
      "cell_type": "code",
      "metadata": {
        "id": "9tnNUk6XMS22",
        "colab_type": "code",
        "colab": {}
      },
      "source": [
        "import tensorflow as tf\n",
        "from tensorflow.keras.preprocessing.image import ImageDataGenerator\n",
        "from tensorflow.keras import backend as K\n",
        "from google.colab import files\n",
        "from tensorflow.keras.models import Model\n",
        "from tensorflow.keras import layers\n",
        "from tensorflow.keras import Input\n",
        "from tensorflow.keras import optimizers\n",
        "\n",
        "\n",
        "input_tensor = Input(shape=(512,512,1))\n",
        "conv1 = layers.Conv2D(64, 3, activation = 'relu', padding = 'same', kernel_initializer = 'he_normal')(input_tensor)\n",
        "conv1 = layers.Conv2D(64, 3, activation = 'relu', padding = 'same', kernel_initializer = 'he_normal')(conv1)\n",
        "pool1 = layers.MaxPooling2D(pool_size=(2, 2))(conv1)\n",
        "conv2 = layers.Conv2D(128, 3, activation = 'relu', padding = 'same', kernel_initializer = 'he_normal')(pool1)\n",
        "conv2 = layers.Conv2D(128, 3, activation = 'relu', padding = 'same', kernel_initializer = 'he_normal')(conv2)\n",
        "pool2 = layers.MaxPooling2D(pool_size=(2, 2))(conv2)\n",
        "conv3 = layers.Conv2D(256, 3, activation = 'relu', padding = 'same', kernel_initializer = 'he_normal')(pool2)\n",
        "conv3 = layers.Conv2D(256, 3, activation = 'relu', padding = 'same', kernel_initializer = 'he_normal')(conv3)\n",
        "pool3 = layers.MaxPooling2D(pool_size=(2, 2))(conv3)\n",
        "conv4 = layers.Conv2D(512, 3, activation = 'relu', padding = 'same', kernel_initializer = 'he_normal')(pool3)\n",
        "conv4 = layers.Conv2D(512, 3, activation = 'relu', padding = 'same', kernel_initializer = 'he_normal')(conv4)\n",
        "drop4 = layers.Dropout(0.5)(conv4)\n",
        "pool4 = layers.MaxPooling2D(pool_size=(2, 2))(drop4)\n",
        "\n",
        "conv5 = layers.Conv2D(1024, 3, activation = 'relu', padding = 'same', kernel_initializer = 'he_normal')(pool4)\n",
        "conv5 = layers.Conv2D(1024, 3, activation = 'relu', padding = 'same', kernel_initializer = 'he_normal')(conv5)\n",
        "drop5 = layers.Dropout(0.5)(conv5)\n",
        "\n",
        "up6 = layers.Conv2D(512, 2, activation = 'relu', padding = 'same', kernel_initializer = 'he_normal')(layers.UpSampling2D(size = (2,2))(drop5))\n",
        "merge6 = layers.concatenate([drop4,up6], axis = 3)\n",
        "conv6 = layers.Conv2D(512, 3, activation = 'relu', padding = 'same', kernel_initializer = 'he_normal')(merge6)\n",
        "conv6 = layers.Conv2D(512, 3, activation = 'relu', padding = 'same', kernel_initializer = 'he_normal')(conv6)\n",
        "\n",
        "up7 = layers.Conv2D(256, 2, activation = 'relu', padding = 'same', kernel_initializer = 'he_normal')(layers.UpSampling2D(size = (2,2))(conv6))\n",
        "merge7 = layers.concatenate([conv3,up7], axis = 3)\n",
        "conv7 = layers.Conv2D(256, 3, activation = 'relu', padding = 'same', kernel_initializer = 'he_normal')(merge7)\n",
        "conv7 = layers.Conv2D(256, 3, activation = 'relu', padding = 'same', kernel_initializer = 'he_normal')(conv7)\n",
        "\n",
        "up8 = layers.Conv2D(128, 2, activation = 'relu', padding = 'same', kernel_initializer = 'he_normal')(layers.UpSampling2D(size = (2,2))(conv7))\n",
        "merge8 = layers.concatenate([conv2,up8], axis = 3)\n",
        "conv8 = layers.Conv2D(128, 3, activation = 'relu', padding = 'same', kernel_initializer = 'he_normal')(merge8)\n",
        "conv8 = layers.Conv2D(128, 3, activation = 'relu', padding = 'same', kernel_initializer = 'he_normal')(conv8)\n",
        "\n",
        "up9 = layers.Conv2D(64, 2, activation = 'relu', padding = 'same', kernel_initializer = 'he_normal')(layers.UpSampling2D(size = (2,2))(conv8))\n",
        "merge9 = layers.concatenate([conv1,up9], axis = 3)\n",
        "conv9 = layers.Conv2D(64, 3, activation = 'relu', padding = 'same', kernel_initializer = 'he_normal')(merge9)\n",
        "conv9 = layers.Conv2D(64, 3, activation = 'relu', padding = 'same', kernel_initializer = 'he_normal')(conv9)\n",
        "conv9 = layers.Conv2D(2, 3, activation = 'relu', padding = 'same', kernel_initializer = 'he_normal')(conv9)\n",
        "conv10 = layers.Conv2D(1, 1, activation = 'sigmoid')(conv9)\n",
        "\n",
        "model = Model(input_tensor, conv10)\n",
        "\n",
        "miou = tf.keras.metrics.MeanIoU(num_classes=2)\n",
        "model.compile(loss= 'binary_crossentropy', \n",
        "                optimizer= optimizers.Adam(lr=1.3e-4),                 \n",
        "                metrics=['acc', miou])\n"
      ],
      "execution_count": 0,
      "outputs": []
    },
    {
      "cell_type": "code",
      "metadata": {
        "id": "L2mSVXunDOCX",
        "colab_type": "code",
        "colab": {}
      },
      "source": [
        "model.summary()"
      ],
      "execution_count": 0,
      "outputs": []
    },
    {
      "cell_type": "markdown",
      "metadata": {
        "id": "708HLsMVDU1o",
        "colab_type": "text"
      },
      "source": [
        "#Генераторы для данных:\n",
        "\n",
        "train_generator - генератор для тренировочных данных\n",
        "\n",
        "val_generator - генератор для проверочных данных\n",
        "\n",
        "test_generator - генератор для контрольных данных\n"
      ]
    },
    {
      "cell_type": "code",
      "metadata": {
        "id": "z9rSbzLWTPIn",
        "colab_type": "code",
        "colab": {}
      },
      "source": [
        "def train_generator(img_train_dir, mask_train_dir):\n",
        "  train_datagen = ImageDataGenerator(rescale=1./255,\n",
        "                                  rotation_range=20,\n",
        "                                  width_shift_range=0.2,\n",
        "                                  height_shift_range=0.2,\n",
        "                                  shear_range=0.2,\n",
        "                                  zoom_range=0.2,\n",
        "                                  horizontal_flip=True)\n",
        "  \n",
        "\n",
        "  img_train_generator = train_datagen.flow_from_directory(\n",
        "        img_train_dir,\n",
        "        target_size=(512,512),\n",
        "        batch_size=5,\n",
        "        #classes=['images/image'],\n",
        "        color_mode=\"grayscale\",\n",
        "        seed=1,\n",
        "        class_mode=None,)\n",
        "\n",
        "  mask_train_generator = train_datagen.flow_from_directory(\n",
        "        mask_train_dir,\n",
        "        target_size=(512,512),\n",
        "        batch_size=5,\n",
        "        #classes=['masks/mask'],\n",
        "        color_mode=\"grayscale\",\n",
        "        seed=1,\n",
        "        class_mode=None,)\n",
        "  train_gen = zip(img_train_generator, mask_train_generator)\n",
        "  for (img, mask) in train_gen:\n",
        "    mask[mask > 0.9] = 1\n",
        "    mask[mask <= 0.9] = 0\n",
        "    yield (img,mask)\n",
        "  \n",
        "#train_gen = (pair for pair in zip(img_train_generator, mask_train_generator))\n",
        "\n",
        "def val_generator(img_val_dir, mask_val_dir):\n",
        "  val_datagen = ImageDataGenerator(rescale=1./255)\n",
        "  img_val_generator = val_datagen.flow_from_directory(\n",
        "        img_val_dir,\n",
        "        target_size=(512,512),\n",
        "        batch_size=5,\n",
        "        #classes=['images/image'],\n",
        "        color_mode=\"grayscale\",\n",
        "        seed=1,\n",
        "        class_mode=None,)\n",
        "\n",
        "  mask_val_generator = val_datagen.flow_from_directory(\n",
        "        mask_val_dir,\n",
        "        target_size=(512,512),\n",
        "        batch_size=5,\n",
        "        #classes=['masks/mask'],\n",
        "        color_mode=\"grayscale\",\n",
        "        seed=1,\n",
        "        class_mode=None,)\n",
        "        \n",
        "  val_gen = zip(img_val_generator, mask_val_generator)\n",
        "  for (img, mask) in val_gen:\n",
        "    mask[mask == 1] = 1\n",
        "    mask[mask <= 1] = 0\n",
        "    yield (img,mask)\n",
        "#val_gen = (pair for pair in zip(img_val_generator, mask_val_generator))\n",
        "\n",
        "\n",
        "def test_generator(img_test_dir, mask_test_dir):\n",
        "  test_datagen = ImageDataGenerator(rescale=1./255)\n",
        "  test_img_generator = test_datagen.flow_from_directory(\n",
        "      img_test_dir,\n",
        "      target_size =(512,512),\n",
        "      batch_size = 2,\n",
        "      color_mode=\"grayscale\",\n",
        "      class_mode=None\n",
        "  )\n",
        "  test_mask_generator = test_datagen.flow_from_directory(\n",
        "      mask_test_dir,\n",
        "      target_size =(512, 512),\n",
        "      batch_size=2,\n",
        "      color_mode=\"grayscale\",\n",
        "      class_mode=None \n",
        "  )\n",
        "  test_gen = zip(test_img_generator, test_mask_generator)\n",
        "  for (img, mask) in test_gen:\n",
        "      mask[mask > 0.5] = 1\n",
        "      mask[mask <= 0.5] = 0\n",
        "      yield (img,mask)"
      ],
      "execution_count": 0,
      "outputs": []
    },
    {
      "cell_type": "markdown",
      "metadata": {
        "id": "4wWlazMAFS-l",
        "colab_type": "text"
      },
      "source": [
        "##Обучение"
      ]
    },
    {
      "cell_type": "code",
      "metadata": {
        "colab_type": "code",
        "outputId": "7351da80-6d47-47c7-88ac-e9c136c7528f",
        "id": "K4n_XavEFEmz",
        "colab": {
          "base_uri": "https://localhost:8080/",
          "height": 1000
        }
      },
      "source": [
        "from tensorflow.keras.callbacks import EarlyStopping, ModelCheckpoint, TensorBoard\n",
        "\n",
        "\n",
        "train_gen = train_generator(img_train_dir, mask_train_dir)\n",
        "val_gen = val_generator(img_val_dir, mask_val_dir)\n",
        "\n",
        "callbacks_list = [\n",
        "                  TensorBoard(\n",
        "                      log_dir='/content/l_dir',\n",
        "                      histogram_freq=1,\n",
        "                  ),\n",
        "                  EarlyStopping(\n",
        "                      monitor='val_acc',\n",
        "                      patience=3,\n",
        "                  ),\n",
        "                  ModelCheckpoint(\n",
        "                      filepath='/content/gdrive/My Drive/unetunet_v4.h5',\n",
        "                      monitor='val_acc',\n",
        "                      save_best_only=True,\n",
        "                  )\n",
        "]\n",
        "\n",
        "history = model.fit_generator(\n",
        "    train_gen,\n",
        "    steps_per_epoch=700,\n",
        "    epochs=30,\n",
        "    #callbacks=callbacks_list,\n",
        "    validation_data=val_gen,\n",
        "    validation_steps=100\n",
        ")\n",
        "#model.save('/content/gdrive/My Drive/unetunet_v3.h5')"
      ],
      "execution_count": 0,
      "outputs": [
        {
          "output_type": "stream",
          "text": [
            "Found 3500 images belonging to 1 classes.\n",
            "Found 3500 images belonging to 1 classes.\n",
            "WARNING:tensorflow:sample_weight modes were coerced from\n",
            "  ...\n",
            "    to  \n",
            "  ['...']\n",
            "Found 500 images belonging to 1 classes.\n",
            "Found 500 images belonging to 1 classes.\n",
            "WARNING:tensorflow:sample_weight modes were coerced from\n",
            "  ...\n",
            "    to  \n",
            "  ['...']\n",
            "Train for 700 steps, validate for 100 steps\n",
            "Epoch 1/30\n",
            "700/700 [==============================] - 1076s 2s/step - loss: 0.3836 - acc: 0.8274 - mean_io_u: 0.3783 - val_loss: 0.2720 - val_acc: 0.7734 - val_mean_io_u: 1.0000\n",
            "Epoch 2/30\n",
            "700/700 [==============================] - 1074s 2s/step - loss: 0.3742 - acc: 0.8338 - mean_io_u: 0.3780 - val_loss: 0.3004 - val_acc: 0.7112 - val_mean_io_u: 1.0000\n",
            "Epoch 3/30\n",
            "700/700 [==============================] - 1074s 2s/step - loss: 0.3581 - acc: 0.8459 - mean_io_u: 0.3792 - val_loss: 0.2953 - val_acc: 0.7411 - val_mean_io_u: 1.0000\n",
            "Epoch 4/30\n",
            "700/700 [==============================] - 1073s 2s/step - loss: 0.3457 - acc: 0.8553 - mean_io_u: 0.3787 - val_loss: 0.2061 - val_acc: 0.8296 - val_mean_io_u: 1.0000\n",
            "Epoch 5/30\n",
            "700/700 [==============================] - 1072s 2s/step - loss: 0.3429 - acc: 0.8581 - mean_io_u: 0.3780 - val_loss: 0.2042 - val_acc: 0.8446 - val_mean_io_u: 1.0000\n",
            "Epoch 6/30\n",
            "700/700 [==============================] - 1070s 2s/step - loss: 0.3268 - acc: 0.8666 - mean_io_u: 0.3786 - val_loss: 0.2076 - val_acc: 0.8375 - val_mean_io_u: 1.0000\n",
            "Epoch 7/30\n",
            "700/700 [==============================] - 1069s 2s/step - loss: 0.3174 - acc: 0.8709 - mean_io_u: 0.3795 - val_loss: 0.2336 - val_acc: 0.8110 - val_mean_io_u: 1.0000\n",
            "Epoch 8/30\n",
            "700/700 [==============================] - 1070s 2s/step - loss: 0.3149 - acc: 0.8730 - mean_io_u: 0.3789 - val_loss: 0.2231 - val_acc: 0.8167 - val_mean_io_u: 1.0000\n",
            "Epoch 9/30\n",
            "700/700 [==============================] - 1069s 2s/step - loss: 0.3044 - acc: 0.8794 - mean_io_u: 0.3793 - val_loss: 0.2655 - val_acc: 0.7781 - val_mean_io_u: 1.0000\n",
            "Epoch 10/30\n",
            "700/700 [==============================] - 1070s 2s/step - loss: 0.2962 - acc: 0.8833 - mean_io_u: 0.3793 - val_loss: 0.2593 - val_acc: 0.7842 - val_mean_io_u: 1.0000\n",
            "Epoch 11/30\n",
            "700/700 [==============================] - 1065s 2s/step - loss: 0.2877 - acc: 0.8873 - mean_io_u: 0.3791 - val_loss: 0.2510 - val_acc: 0.8109 - val_mean_io_u: 1.0000\n",
            "Epoch 12/30\n",
            "700/700 [==============================] - 1069s 2s/step - loss: 0.2844 - acc: 0.8894 - mean_io_u: 0.3785 - val_loss: 0.3076 - val_acc: 0.7477 - val_mean_io_u: 1.0000\n",
            "Epoch 13/30\n",
            "700/700 [==============================] - 1067s 2s/step - loss: 0.2801 - acc: 0.8899 - mean_io_u: 0.3796 - val_loss: 0.2632 - val_acc: 0.7820 - val_mean_io_u: 1.0000\n",
            "Epoch 14/30\n",
            "700/700 [==============================] - 1068s 2s/step - loss: 0.2774 - acc: 0.8923 - mean_io_u: 0.3790 - val_loss: 0.3215 - val_acc: 0.7666 - val_mean_io_u: 1.0000\n",
            "Epoch 15/30\n",
            "700/700 [==============================] - 1070s 2s/step - loss: 0.2684 - acc: 0.8960 - mean_io_u: 0.3788 - val_loss: 0.2931 - val_acc: 0.7799 - val_mean_io_u: 1.0000\n",
            "Epoch 16/30\n",
            "700/700 [==============================] - 1068s 2s/step - loss: 0.2624 - acc: 0.8990 - mean_io_u: 0.3788 - val_loss: 0.3477 - val_acc: 0.7201 - val_mean_io_u: 1.0000\n",
            "Epoch 17/30\n",
            "700/700 [==============================] - 1065s 2s/step - loss: 0.2595 - acc: 0.8995 - mean_io_u: 0.3792 - val_loss: 0.2333 - val_acc: 0.8335 - val_mean_io_u: 1.0000\n",
            "Epoch 18/30\n",
            "700/700 [==============================] - 1063s 2s/step - loss: 0.2555 - acc: 0.9021 - mean_io_u: 0.3786 - val_loss: 0.2895 - val_acc: 0.7843 - val_mean_io_u: 1.0000\n",
            "Epoch 19/30\n",
            "700/700 [==============================] - 1068s 2s/step - loss: 0.2506 - acc: 0.9040 - mean_io_u: 0.3784 - val_loss: 0.2537 - val_acc: 0.8112 - val_mean_io_u: 1.0000\n",
            "Epoch 20/30\n",
            "700/700 [==============================] - 1075s 2s/step - loss: 0.2491 - acc: 0.9039 - mean_io_u: 0.3788 - val_loss: 0.2295 - val_acc: 0.8389 - val_mean_io_u: 1.0000\n",
            "Epoch 21/30\n",
            "700/700 [==============================] - 1067s 2s/step - loss: 0.2438 - acc: 0.9065 - mean_io_u: 0.3787 - val_loss: 0.3025 - val_acc: 0.7758 - val_mean_io_u: 1.0000\n",
            "Epoch 22/30\n",
            "700/700 [==============================] - 1068s 2s/step - loss: 0.2360 - acc: 0.9099 - mean_io_u: 0.3797 - val_loss: 0.3922 - val_acc: 0.7290 - val_mean_io_u: 1.0000\n",
            "Epoch 23/30\n",
            "700/700 [==============================] - 1065s 2s/step - loss: 0.2341 - acc: 0.9112 - mean_io_u: 0.3787 - val_loss: 0.4020 - val_acc: 0.7199 - val_mean_io_u: 1.0000\n",
            "Epoch 24/30\n",
            "363/700 [==============>...............] - ETA: 8:05 - loss: 0.2322 - acc: 0.9102 - mean_io_u: 0.3808"
          ],
          "name": "stdout"
        }
      ]
    },
    {
      "cell_type": "code",
      "metadata": {
        "id": "qeg3N-ruEkVY",
        "colab_type": "code",
        "colab": {}
      },
      "source": [
        "model.save('/content/gdrive/My Drive/unetunet_v4.h5')"
      ],
      "execution_count": 0,
      "outputs": []
    },
    {
      "cell_type": "markdown",
      "metadata": {
        "id": "YAzC_A6Qvnxc",
        "colab_type": "text"
      },
      "source": [
        "##Проверка на контрольных данных"
      ]
    },
    {
      "cell_type": "code",
      "metadata": {
        "id": "7ZDE3dbrIsJn",
        "colab_type": "code",
        "outputId": "144331cb-e836-4b5a-f92e-23aa90f778a3",
        "colab": {
          "base_uri": "https://localhost:8080/",
          "height": 237
        }
      },
      "source": [
        "test_generator = test_generator(img_test_dir, mask_test_dir) \n",
        "test_loss, test_acc, test_iou = model.evaluate_generator(test_generator, steps=200)\n",
        "print('test mIOU: ', test_iou)\n",
        "print('test acc:', test_acc)"
      ],
      "execution_count": 0,
      "outputs": [
        {
          "output_type": "stream",
          "text": [
            "WARNING:tensorflow:From <ipython-input-24-cf1a1f0df541>:2: Model.evaluate_generator (from tensorflow.python.keras.engine.training) is deprecated and will be removed in a future version.\n",
            "Instructions for updating:\n",
            "Please use Model.evaluate, which supports generators.\n",
            "Found 400 images belonging to 1 classes.\n",
            "Found 400 images belonging to 1 classes.\n",
            "WARNING:tensorflow:sample_weight modes were coerced from\n",
            "  ...\n",
            "    to  \n",
            "  ['...']\n",
            "test mIOU:  0.3832927\n",
            "test acc: 0.7095738\n"
          ],
          "name": "stdout"
        }
      ]
    },
    {
      "cell_type": "markdown",
      "metadata": {
        "id": "dF8hUh2JveoG",
        "colab_type": "text"
      },
      "source": [
        "Результат"
      ]
    },
    {
      "cell_type": "code",
      "metadata": {
        "id": "kUdPCdyJL-Ev",
        "colab_type": "code",
        "colab": {}
      },
      "source": [
        "from tensorflow.keras.preprocessing import image\n",
        "import numpy as np\n",
        "import matplotlib.pyplot as plt\n",
        "\n",
        "\n",
        "def predToGrayImage(segment):\n",
        "  img = np.zeros((segment.shape[0], segment.shape[1], 3))\n",
        "  img[:, :, 0] = segment[:, :, 0]*254\n",
        "  img[:, :, 1] = img[:, :, 0] #Make greyscale\n",
        "  img[:, :, 2] = img[:, :, 0] #Make greyscale\n",
        "  return img.astype('uint8')\n",
        "\n",
        "def img_preproc(img_path):\n",
        "  \"\"\"Возвращает нормированный 4ех-мерный тензор\"\"\"\n",
        "  img = image.load_img(img_path, target_size=(512,512))\n",
        "  img_tensor = image.img_to_array(img)\n",
        "  img_tensor = np.expand_dims(img_tensor, axis=0)\n",
        "  img_tensor /= 255.\n",
        "  return img_tensor\n",
        "\n",
        "def img_pred(img_path):\n",
        "  img_tensor = img_preproc(img_path)\n",
        "  img_tensor_grayscale = tf.image.rgb_to_grayscale(img_tensor, name=None)\n",
        "  result = model.predict(img_tensor_grayscale)\n",
        "  mask = predToGrayImage(result[0])\n",
        "  #plt.imshow(img_tensor[0])\n",
        "  plt.imshow(mask)\n",
        "  plt.show()"
      ],
      "execution_count": 0,
      "outputs": []
    },
    {
      "cell_type": "code",
      "metadata": {
        "id": "6F2u4jfmYVbk",
        "colab_type": "code",
        "outputId": "8cf47376-a558-46a5-912c-41d383e8aa18",
        "colab": {
          "base_uri": "https://localhost:8080/",
          "height": 269
        }
      },
      "source": [
        "img_path = '/content/gdrive/My Drive/50c9nSeQkbE.jpg'\n",
        "\n",
        "img_tensor = img_preproc(img_path)\n",
        "img_tensor_grayscale = tf.image.rgb_to_grayscale(img_tensor, name=None)\n",
        "img_tensor_grayscale.shape\n",
        "result = model.predict(img_tensor_grayscale)\n",
        "mask = predToGrayImage(result[0])\n",
        "plt.imshow(mask)\n",
        "plt.show()"
      ],
      "execution_count": 0,
      "outputs": [
        {
          "output_type": "display_data",
          "data": {
            "image/png": "[encoded data removed]",
            "text/plain": [
              "<Figure size 432x288 with 1 Axes>"
            ]
          },
          "metadata": {
            "tags": []
          }
        }
      ]
    }
  ]
}